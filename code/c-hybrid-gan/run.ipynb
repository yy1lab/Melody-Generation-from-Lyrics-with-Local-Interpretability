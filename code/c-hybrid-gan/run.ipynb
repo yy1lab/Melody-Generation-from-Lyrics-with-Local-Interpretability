{
 "cells": [
  {
   "cell_type": "code",
   "execution_count": 1,
   "metadata": {},
   "outputs": [],
   "source": [
    "\n",
    "# train the model\n",
    "\n",
    "!python train.py\n"
   ]
  },
  {
   "cell_type": "code",
   "execution_count": 2,
   "metadata": {},
   "outputs": [],
   "source": [
    "\n",
    "# evaluate the model\n",
    "\n",
    "!python evaluate.py\n"
   ]
  },
  {
   "cell_type": "code",
   "execution_count": 3,
   "metadata": {},
   "outputs": [],
   "source": [
    "\n",
    "# generation\n"
   ]
  },
  {
   "cell_type": "code",
   "execution_count": 4,
   "metadata": {},
   "outputs": [],
   "source": [
    "\n",
    "\n",
    "# --SYLL_LYRICS \"I know that when you look at me there's so much that you just don't see\"\n",
    "# --WORD_LYRICS \"I know that when you look at me there's so much that you just don't see\"\n",
    "\n",
    "# --SYLL_LYRICS \"I have the time so I will sing yeah I'm just a boy but I will win yeah\"\n",
    "# --WORD_LYRICS \"I have the time so I will sing yeah I'm just a boy but I will win yeah\"\n",
    "\n",
    "# --SYLL_LYRICS \"She was cry    in'    and I was lone   ly     and the band was play    in'     some old love song\"\n",
    "# --WORD_LYRICS \"She was cryin' cryin' and I was lonely lonely and the band was playin' playin' some old love song\"\n"
   ]
  },
  {
   "cell_type": "code",
   "execution_count": 6,
   "metadata": {},
   "outputs": [],
   "source": [
    "\n",
    "# generating melody using C-Hybrid-MLE\n",
    "\n",
    "cmd = \"\"\"\n",
    "  python generate.py \n",
    "  --SYLL_LYRICS \"I know that when you look at me there's so much that you just don't see\"\n",
    "  --WORD_LYRICS \"I know that when you look at me there's so much that you just don't see\"\n",
    "  --CKPT_PATH \"../../checkpoints/pre_train_c_hybrid_gan\"\n",
    "\"\"\".replace(\"\\n\", \" \")\n",
    "\n",
    "!{cmd}\n"
   ]
  },
  {
   "cell_type": "code",
   "execution_count": 8,
   "metadata": {},
   "outputs": [],
   "source": [
    "\n",
    "# generating melody using C-Hybrid-GAN\n",
    "\n",
    "cmd = \"\"\"\n",
    "  python generate.py \n",
    "  --SYLL_LYRICS \"I know that when you look at me there's so much that you just don't see\"\n",
    "  --WORD_LYRICS \"I know that when you look at me there's so much that you just don't see\"\n",
    "  --CKPT_PATH \"../../checkpoints/adv_train_c_hybrid_gan\"\n",
    "  --IS_GAN\n",
    "\"\"\".replace(\"\\n\", \" \")\n",
    "\n",
    "!{cmd}\n"
   ]
  },
  {
   "cell_type": "code",
   "execution_count": null,
   "metadata": {},
   "outputs": [],
   "source": [
    "\n",
    "# end of the notebook\n"
   ]
  }
 ],
 "metadata": {
  "kernelspec": {
   "display_name": "Python 3",
   "language": "python",
   "name": "python3"
  },
  "language_info": {
   "codemirror_mode": {
    "name": "ipython",
    "version": 3
   },
   "file_extension": ".py",
   "mimetype": "text/x-python",
   "name": "python",
   "nbconvert_exporter": "python",
   "pygments_lexer": "ipython3",
   "version": "3.7.4"
  }
 },
 "nbformat": 4,
 "nbformat_minor": 2
}
